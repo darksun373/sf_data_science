{
 "cells": [
  {
   "cell_type": "code",
   "execution_count": 20,
   "metadata": {},
   "outputs": [
    {
     "name": "stdout",
     "output_type": "stream",
     "text": [
      "Ваш алгоритм угадывает число в среднем за: 6 попыток\n"
     ]
    }
   ],
   "source": [
    "\"\"\"Игра Угадай число.\n",
    "Компьютер сам загадывает и угадывает число\n",
    "\"\"\"\n",
    "\n",
    "import numpy as np\n",
    "\n",
    "\n",
    "def random_predict(number: int = np.random.randint(1, 101)) -> int:\n",
    "    \"\"\"Randomly guess a number\n",
    "    Args:\n",
    "        number (int, optional): Hidden number. Defaults to 1.\n",
    "    Returns:\n",
    "        int: Number of attempts\n",
    "    \"\"\"\n",
    "\n",
    "    count = 0\n",
    "    max_number = 100\n",
    "    min_number = 0\n",
    "    predict_number = np.random.randint(1, 101)  # prospective number\n",
    "\n",
    "    while True:\n",
    "        count += 1\n",
    "\n",
    "        if predict_number > number:\n",
    "            max_number = predict_number - 1\n",
    "            predict_number = (max_number + min_number) // 2\n",
    "\n",
    "\n",
    "        elif predict_number < number:\n",
    "            min_number = predict_number + 1\n",
    "            predict_number = (max_number + min_number) // 2\n",
    "\n",
    "        else:\n",
    "            break  # end of the game, exit from the cycle\n",
    "\n",
    "    return count\n",
    "\n",
    "\n",
    "def score_game(random_predict) -> int:\n",
    "    \"\"\"За сколько в среднем попыток из 100 алгоритм угадывает число\n",
    "    Args:\n",
    "        random_predict ([type]): guess function\n",
    "    Returns:\n",
    "        int: average number of attempts\n",
    "    \"\"\"\n",
    "\n",
    "    count_ls = []  # list to save the number of attempts\n",
    "    np.random.seed(1)  # fix seed for reproducibility\n",
    "    random_array = np.random.randint(1, 101, size=(250))  # made a list of numbers\n",
    "\n",
    "    i=0\n",
    "    for number in random_array:\n",
    "        i+=1\n",
    "        count_ls.append(random_predict(number))\n",
    "\n",
    "    score = int(np.mean(count_ls))  # среднее число попыток\n",
    "  \n",
    "    print(f'Ваш алгоритм угадывает число в среднем за: {score} попыток')\n",
    "\n",
    "score_game(random_predict)"
   ]
  }
 ],
 "metadata": {
  "interpreter": {
   "hash": "dece2c1aa7b7fb3c5c879e9e8a2ff3189a473fb83fe19bb1f6d3f9a13c648b05"
  },
  "kernelspec": {
   "display_name": "Python 3.9.11 64-bit",
   "language": "python",
   "name": "python3"
  },
  "language_info": {
   "codemirror_mode": {
    "name": "ipython",
    "version": 3
   },
   "file_extension": ".py",
   "mimetype": "text/x-python",
   "name": "python",
   "nbconvert_exporter": "python",
   "pygments_lexer": "ipython3",
   "version": "3.9.11"
  },
  "orig_nbformat": 4
 },
 "nbformat": 4,
 "nbformat_minor": 2
}
