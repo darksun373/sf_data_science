{
  "nbformat": 4,
  "nbformat_minor": 0,
  "metadata": {
    "colab": {
      "name": "sf_pandas_04_06_22",
      "provenance": [],
      "collapsed_sections": [],
      "include_colab_link": true
    },
    "kernelspec": {
      "name": "python3",
      "display_name": "Python 3"
    }
  },
  "cells": [
    {
      "cell_type": "markdown",
      "metadata": {
        "id": "view-in-github",
        "colab_type": "text"
      },
      "source": [
        "<a href=\"https://colab.research.google.com/github/darksun373/sf_data_science/blob/main/sf_pandas_04_06_22.ipynb\" target=\"_parent\"><img src=\"https://colab.research.google.com/assets/colab-badge.svg\" alt=\"Open In Colab\"/></a>"
      ]
    },
    {
      "cell_type": "markdown",
      "metadata": {
        "id": "E1ZR1FHYMsJh"
      },
      "source": [
        "# Работа с Pandas"
      ]
    },
    {
      "cell_type": "markdown",
      "metadata": {
        "id": "8ONOFUcIEeYK"
      },
      "source": [
        "Булыгин Олег  \n",
        " \n",
        "* [LinkedIn](linkedin.com/in/obulygin)  \n",
        "* [Мой ТГ канал по Python](https://t.me/solidtalk)"
      ]
    },
    {
      "cell_type": "markdown",
      "metadata": {
        "id": "Vw4ia5wCEeYL"
      },
      "source": [
        "## План\n",
        "В рамках воркфлоу работы с открытым датафреймом по реальным транзакциям британского онлайн-магазина подарков. Реализуем набор аналитических действий и решим задачи:\n",
        "- посчитаем статистику по странам;\n",
        "- проанализируем выручку;\n",
        "- изучим статистику по клиентам;\n",
        "- проанализируем динамику среднего чека;\n",
        "- просегментируем товары по стоимости;\n",
        "- сделаем когортный анализ и анализ удержания клиентов (уже непросто!).\n",
        "\n",
        "Пройдя по этим шагам повторим:\n",
        "- базовую работу с датами;\n",
        "- преобразование типов;\n",
        "- сортировку;\n",
        "- группировку и сводные таблицы;\n",
        "- объединение датафреймов."
      ]
    },
    {
      "cell_type": "code",
      "metadata": {
        "id": "iBmFNyAZ6JOn"
      },
      "source": [
        "# импортируем pandas\n",
        "import pandas as pd"
      ],
      "execution_count": null,
      "outputs": []
    },
    {
      "cell_type": "markdown",
      "metadata": {
        "id": "kOuFFM38LYOf"
      },
      "source": [
        "### Открытие и знакомство с данными"
      ]
    },
    {
      "cell_type": "code",
      "metadata": {
        "id": "ARU_Q-NRmfNG"
      },
      "source": [
        "# читаем данные из csv, который находится в zip-файле на github\n",
        "url = 'https://github.com/obulygin/SkillFactory/blob/main/ecommerce-data.zip?raw=true'\n",
        "df = pd.read_csv(url, encoding='ISO-8859-1', compression='zip')"
      ],
      "execution_count": null,
      "outputs": []
    },
    {
      "cell_type": "code",
      "metadata": {
        "id": "Hb6HoZIA7JLd"
      },
      "source": [
        "# смотрим первые 5 строк таблицы\n",
        "display(df.head())\n",
        "# смотрим последние 5 строк таблицы\n",
        "display(df.tail())"
      ],
      "execution_count": null,
      "outputs": []
    },
    {
      "cell_type": "code",
      "metadata": {
        "id": "1fld-n197QiX"
      },
      "source": [
        "# рассчитываем базовые статистики по каждому числовому признаку\n",
        "df.describe() "
      ],
      "execution_count": null,
      "outputs": []
    },
    {
      "cell_type": "markdown",
      "metadata": {
        "id": "GU5AMaN6IF_g"
      },
      "source": [
        "### Избавимся от отрицательных значений"
      ]
    },
    {
      "cell_type": "code",
      "metadata": {
        "id": "2zhOWIt69OvK"
      },
      "source": [
        "# оставляем данные только с положительными ценами на товар и количеством\n",
        "df = df[(df['UnitPrice'] > 0) & (df['Quantity'] > 0)]\n",
        "df.describe()"
      ],
      "execution_count": null,
      "outputs": []
    },
    {
      "cell_type": "markdown",
      "metadata": {
        "id": "o2GaC1c3GT6z"
      },
      "source": [
        "### Избавимся от дубликатов в данных"
      ]
    },
    {
      "cell_type": "code",
      "metadata": {
        "id": "FfmcydLRqq4S"
      },
      "source": [
        "# посмотрим, сколько у нас повторов\n",
        "print(df.duplicated().sum())"
      ],
      "execution_count": null,
      "outputs": []
    },
    {
      "cell_type": "code",
      "metadata": {
        "id": "eQaWUgmoqznJ"
      },
      "source": [
        "# сколько всего строк?\n",
        "print(df.shape)"
      ],
      "execution_count": null,
      "outputs": []
    },
    {
      "cell_type": "code",
      "metadata": {
        "id": "hTf5rmMIlMzM"
      },
      "source": [
        "# удалим дубли и проверим\n",
        "df.drop_duplicates(inplace=True)\n",
        "print(df.shape)"
      ],
      "execution_count": null,
      "outputs": []
    },
    {
      "cell_type": "markdown",
      "metadata": {
        "id": "zg12xmJOdo5F"
      },
      "source": [
        "### Поправим типы данных"
      ]
    },
    {
      "cell_type": "code",
      "metadata": {
        "id": "jeMh_K3lpV_K"
      },
      "source": [
        "df.info()"
      ],
      "execution_count": null,
      "outputs": []
    },
    {
      "cell_type": "code",
      "metadata": {
        "id": "zeKtOk5NWyCR"
      },
      "source": [
        "# почему ошибка?\n",
        "df['CustomerID'] = df['CustomerID'].astype('int64')"
      ],
      "execution_count": null,
      "outputs": []
    },
    {
      "cell_type": "code",
      "metadata": {
        "id": "nNmNQtbNFWzS"
      },
      "source": [
        "# Nullable datatypes: https://pandas.pydata.org/pandas-docs/stable/user_guide/integer_na.html\n",
        "df['CustomerID'] = df['CustomerID'].astype('Int64')"
      ],
      "execution_count": null,
      "outputs": []
    },
    {
      "cell_type": "code",
      "metadata": {
        "id": "f9JUOquB_fCJ"
      },
      "source": [
        "# переведем даты из строкового формата в datetime\n",
        "df['InvoiceDate'] = pd.to_datetime(df['InvoiceDate'])"
      ],
      "execution_count": null,
      "outputs": []
    },
    {
      "cell_type": "code",
      "metadata": {
        "id": "rsNBZf7zpgRz"
      },
      "source": [
        "df.info()"
      ],
      "execution_count": null,
      "outputs": []
    },
    {
      "cell_type": "markdown",
      "metadata": {
        "id": "DRofAvYFhQWJ"
      },
      "source": [
        "### Изучаем статистику по странам"
      ]
    },
    {
      "cell_type": "code",
      "metadata": {
        "id": "1O5_0LSSwDmD"
      },
      "source": [
        "# считаем сколько транзакций было по странам при помощи value_counts\n",
        "df['Country'].value_counts()"
      ],
      "execution_count": null,
      "outputs": []
    },
    {
      "cell_type": "code",
      "metadata": {
        "id": "3XVTlTu8RzQU"
      },
      "source": [
        "# считаем сколько уникальных клиентов в странах\n",
        "countries = df.groupby('Country')['CustomerID'].nunique().sort_values(ascending=False)\n",
        "countries"
      ],
      "execution_count": null,
      "outputs": []
    },
    {
      "cell_type": "markdown",
      "metadata": {
        "id": "yiDaL1vX5d2q"
      },
      "source": [
        "#### Практика. Определяем топ-5 лояльных клиентов по количеству покупок"
      ]
    },
    {
      "cell_type": "code",
      "metadata": {
        "id": "DHvx74Om5vQe"
      },
      "source": [
        ""
      ],
      "execution_count": null,
      "outputs": []
    },
    {
      "cell_type": "markdown",
      "metadata": {
        "id": "njRY--QZUCdr"
      },
      "source": [
        "### Создадим временные признакми"
      ]
    },
    {
      "cell_type": "code",
      "source": [
        "# добавим месяц покупки в новый столбец при помощи dt.strftime('%Y - %m')\n",
        "df['InvoiceMonth'] = df['InvoiceDate'].dt.strftime('%Y-%m') "
      ],
      "metadata": {
        "id": "SITaROl_4-MP"
      },
      "execution_count": null,
      "outputs": []
    },
    {
      "cell_type": "code",
      "metadata": {
        "id": "DGr9ztJ2W6tw"
      },
      "source": [
        "# уникальные покупатели по месяцам\n",
        "df.groupby('InvoiceMonth')['CustomerID'].nunique()"
      ],
      "execution_count": null,
      "outputs": []
    },
    {
      "cell_type": "code",
      "source": [
        "# зафиксируем дни недели\n",
        "df['DayOfWeek'] = df['InvoiceDate'].dt.dayofweek + 1"
      ],
      "metadata": {
        "id": "AXyDHXN8476f"
      },
      "execution_count": null,
      "outputs": []
    },
    {
      "cell_type": "code",
      "source": [
        "# посчитаем количество заказов по дням недели\n",
        "df.groupby('DayOfWeek')['InvoiceNo'].nunique()\n"
      ],
      "metadata": {
        "id": "ylFXz3gS5fG2"
      },
      "execution_count": null,
      "outputs": []
    },
    {
      "cell_type": "markdown",
      "metadata": {
        "id": "n2dAhRFBVNpc"
      },
      "source": [
        "#### Практика. Изучим динамику количества покупок по часам"
      ]
    },
    {
      "cell_type": "code",
      "metadata": {
        "id": "IVRPYeB2VD4L"
      },
      "source": [
        ""
      ],
      "execution_count": null,
      "outputs": []
    },
    {
      "cell_type": "markdown",
      "metadata": {
        "id": "m9oRPcIg-aYZ"
      },
      "source": [
        "### Посчитаем выручку"
      ]
    },
    {
      "cell_type": "code",
      "metadata": {
        "id": "nXdWZwGg9L6A"
      },
      "source": [
        "# создадим новый столбец\n",
        "df['Revenue'] = df['Quantity'] * df['UnitPrice']\n",
        "\n",
        "df.head() "
      ],
      "execution_count": null,
      "outputs": []
    },
    {
      "cell_type": "code",
      "metadata": {
        "id": "tGJia2jW-4fI"
      },
      "source": [
        "# выручка по месяцам\n",
        "df.groupby('InvoiceMonth')['Revenue'].sum()"
      ],
      "execution_count": null,
      "outputs": []
    },
    {
      "cell_type": "markdown",
      "metadata": {
        "id": "Utk7uB_gN13k"
      },
      "source": [
        "#### Практика. Найдите 3 страны, которые принесли максимальную выручку после UK"
      ]
    },
    {
      "cell_type": "code",
      "metadata": {
        "id": "Op-VLiEVMD5f"
      },
      "source": [
        ""
      ],
      "execution_count": null,
      "outputs": []
    },
    {
      "cell_type": "markdown",
      "metadata": {
        "id": "SZzxR-uRwBcn"
      },
      "source": [
        "### Сегменты товаров по стоимости"
      ]
    },
    {
      "cell_type": "code",
      "metadata": {
        "id": "iXpxwRrdvU3A"
      },
      "source": [
        "# напишем функцию для сегментации товаров\n",
        "def price_segment(row):\n",
        "    if row < 5:\n",
        "        return 'cheap' \n",
        "    elif 5 <= row < 25:\n",
        "        return 'lower-middle'\n",
        "    elif 25 <= row < 100:\n",
        "        return 'upper-middle'\n",
        "    elif row >= 100:\n",
        "        return 'expensive'\n",
        " \n",
        "\n",
        "df['PriceSegment'] = df['UnitPrice'].apply(price_segment)\n",
        "df['PriceSegment'].value_counts()"
      ],
      "execution_count": null,
      "outputs": []
    },
    {
      "cell_type": "markdown",
      "metadata": {
        "id": "tU7bvPFWODT8"
      },
      "source": [
        "#### Практика. Определить, какая из категорий товаров принесла больше всего выручки"
      ]
    },
    {
      "cell_type": "code",
      "metadata": {
        "id": "FO5CHQUzOW6x"
      },
      "source": [
        ""
      ],
      "execution_count": null,
      "outputs": []
    },
    {
      "cell_type": "markdown",
      "metadata": {
        "id": "T94ptHwekT5y"
      },
      "source": [
        "### Как меняется средний чек со временем?"
      ]
    },
    {
      "cell_type": "code",
      "metadata": {
        "id": "8iC7Z8dKkSqj"
      },
      "source": [
        "df.groupby('InvoiceMonth')['Revenue'].sum().divide(df.groupby('InvoiceMonth')['InvoiceNo'].nunique())"
      ],
      "execution_count": null,
      "outputs": []
    },
    {
      "cell_type": "markdown",
      "source": [
        "### Построим сводные таблицы"
      ],
      "metadata": {
        "id": "zCQ3An675pdP"
      }
    },
    {
      "cell_type": "code",
      "metadata": {
        "id": "NcPe6gQjAJ-8"
      },
      "source": [
        "# сводная таблица по выручки в определенной стране в разрезе пользователей и месяцев\n",
        "country = 'France'\n",
        "table = pd.pivot_table(\n",
        "    df[df['Country']==country], \n",
        "    index='CustomerID', \n",
        "    columns='InvoiceMonth', \n",
        "    aggfunc='sum', \n",
        "    values='Revenue', \n",
        "    fill_value=0)\n",
        "\n",
        "\n",
        "# подсветить максимальные значения по каждому месяцу\n",
        "# table\n",
        "table.style.highlight_max()\n",
        "# table.style.background_gradient(cmap='PuBu')"
      ],
      "execution_count": null,
      "outputs": []
    },
    {
      "cell_type": "markdown",
      "metadata": {
        "id": "yWuZA1aWN6ew"
      },
      "source": [
        "#### Практика. Построить сводную таблицу c кол-вом заказов по странам и месяцам\n"
      ]
    },
    {
      "cell_type": "code",
      "metadata": {
        "id": "biyXSiJpMsdh"
      },
      "source": [
        ""
      ],
      "execution_count": null,
      "outputs": []
    },
    {
      "cell_type": "code",
      "metadata": {
        "id": "KGNfW6qiHt4M"
      },
      "source": [
        "# изучим сводную статистику по покупателям из произвольной страны (суммарная и средняя выручка)\n",
        "products = df[df['Country']==country].groupby(['CustomerID', 'InvoiceNo'], as_index=False)['Revenue'].sum()\n",
        "display(products)\n",
        "products = products.groupby('CustomerID').agg({'InvoiceNo': ['count'], 'Revenue': ['sum','mean']})\n",
        "display(products)"
      ],
      "execution_count": null,
      "outputs": []
    },
    {
      "cell_type": "code",
      "metadata": {
        "id": "AbhXdp2DNh4H"
      },
      "source": [
        "# объединяем статистику по месяцам и статистику по выручки и количеству заказов в разрезе пользователей\n",
        "table_plus = pd.merge(table, products, on='CustomerID') \n",
        "table_plus.style.highlight_max()\n",
        "# table_plus.style.background_gradient(cmap='PuBu')"
      ],
      "execution_count": null,
      "outputs": []
    },
    {
      "cell_type": "markdown",
      "metadata": {
        "id": "M6iBOF3N5a3D"
      },
      "source": [
        "### Когортный анализ\n",
        "\n",
        "Идея когортного анализа состоит в том, чтобы резделить пользоватей на группы по определенным признакам, и отслеживать поведение этих групп во времени. Обычно группы пользователей (когорты) выделяют на основе недели (месяца), когда пользователи совершили первую покупку.\n",
        "\n",
        "Выделив такие группы пользователей (когорты), вы следите за ними в течение времени и измеряете ключевые метрики для каждой отдельной когорты."
      ]
    },
    {
      "cell_type": "code",
      "metadata": {
        "id": "LHsurVnYo9f3"
      },
      "source": [
        "# определяем месяц первой покупки для каждого покупателя \n",
        "cohorts = df.groupby('CustomerID', as_index=False)['InvoiceMonth'].min()\n",
        "cohorts.rename(columns = {'InvoiceMonth':'Cohort'}, inplace=True)\n",
        "cohorts.head()"
      ],
      "execution_count": null,
      "outputs": []
    },
    {
      "cell_type": "code",
      "metadata": {
        "id": "kZvKm-BgviU4"
      },
      "source": [
        "# добавим когорты к основным данным\n",
        "\n",
        "# исключаем пропуски по пользователям для корректного объединения\n",
        "df_merged = pd.merge(df.dropna(), cohorts, how='left', on='CustomerID')\n",
        "df_merged.head()"
      ],
      "execution_count": null,
      "outputs": []
    },
    {
      "cell_type": "code",
      "metadata": {
        "id": "sCldVktG4Qop"
      },
      "source": [
        "# считаем доходы по когортам\n",
        "df_merged.groupby('Cohort')['Revenue'].sum()"
      ],
      "execution_count": null,
      "outputs": []
    },
    {
      "cell_type": "markdown",
      "metadata": {
        "id": "gkF-Zcl4Ojnt"
      },
      "source": [
        "### Анализ retention\n",
        "\n",
        "Customer retention (удержание клиентов) — это способность компании удерживать своих потребителей в течение определенного периода времени."
      ]
    },
    {
      "cell_type": "code",
      "metadata": {
        "id": "djKJrJw6IW0w"
      },
      "source": [
        "import numpy as np\n",
        "\n",
        "# пишем функцию которая добавляет столбец с временем жизни каждой когорты\n",
        "def cohort_period(df):\n",
        "  df['CohortLT'] = np.arange(len(df))\n",
        "  return df\n",
        "\n",
        "# считаем сколько уникальных клиентов у нас в каждой когорте\n",
        "cohorts = df_merged.groupby(['Cohort', 'InvoiceMonth'])[['CustomerID']].nunique()\n",
        "cohorts = cohorts.groupby(level=0).apply(cohort_period)\n",
        "cohorts.rename({'CustomerID': 'TotalUsers'}, inplace=True)\n",
        "cohorts"
      ],
      "execution_count": null,
      "outputs": []
    },
    {
      "cell_type": "code",
      "metadata": {
        "id": "HpxXXglMZDMb"
      },
      "source": [
        "# переведем когорты в индекс, а дату чека в столбец\n",
        "cohorts.reset_index(inplace=True)\n",
        "cohorts.set_index(['Cohort', 'CohortLT'], inplace=True) \n",
        "cohorts = cohorts.rename(columns={'CustomerID': 'TotalUsers'})\n",
        "cohorts"
      ],
      "execution_count": null,
      "outputs": []
    },
    {
      "cell_type": "code",
      "metadata": {
        "id": "5Cp2F3dkYd35"
      },
      "source": [
        "# считаем ретеншн пользователей в каждой когорте\n",
        "\n",
        "# определим количество покупок в первый месяц когорты (100%)\n",
        "cohort_group_size = cohorts['TotalUsers'].groupby(level=0).first()\n",
        "cohort_group_size\n"
      ],
      "execution_count": null,
      "outputs": []
    },
    {
      "cell_type": "code",
      "metadata": {
        "id": "aS_aJ6-eYwVP"
      },
      "source": [
        "# узнаем какой процент покупок этой когортой совершался в последующие месяца\n",
        "user_retention = cohorts['TotalUsers'].unstack(0).divide(cohort_group_size, axis=1)\n",
        "user_retention"
      ],
      "execution_count": null,
      "outputs": []
    },
    {
      "cell_type": "markdown",
      "metadata": {
        "id": "8nZeZ1vgdafo"
      },
      "source": [
        "**Спасибо за внимание буду рад ответить на ваши вопросы!**  \n",
        "Ссылка на форму ОС:\n",
        "https://forms.gle/y8xaFwJqtbFSjUeG8"
      ]
    }
  ]
}